{
  "nbformat": 4,
  "nbformat_minor": 0,
  "metadata": {
    "colab": {
      "name": "exemplo_calc_zeros.ipynb",
      "provenance": []
    },
    "kernelspec": {
      "name": "python3",
      "display_name": "Python 3"
    }
  },
  "cells": [
    {
      "cell_type": "markdown",
      "metadata": {
        "id": "rMkc4R5x9_2l"
      },
      "source": [
        "# Importando bibliotecas"
      ]
    },
    {
      "cell_type": "code",
      "metadata": {
        "id": "nHOa0jJB-EBE"
      },
      "source": [
        "from math import *"
      ],
      "execution_count": null,
      "outputs": []
    },
    {
      "cell_type": "markdown",
      "metadata": {
        "id": "6R8a0ZjX8oqH"
      },
      "source": [
        "# Método da Bisseção"
      ]
    },
    {
      "cell_type": "code",
      "metadata": {
        "id": "5k6hojK4wv_F"
      },
      "source": [
        "def Bisseccao():\n",
        "  f = input(\"f(x) = \")\n",
        "  print(\"Insira os limites do intervalo [a,b]\")\n",
        "  a = float(input(\"Limite inferior do intervalo 'a': \"))\n",
        "  b = float(input(\"Limite superior do intervalo 'b': \"))\n",
        "  erro = float(input(\"Insira o erro máximo desejado: \"))\n",
        "  print()\n",
        "  x = a\n",
        "  fa = []\n",
        "  fa.append(eval(f))\n",
        "  iteracao = 0\n",
        "  while fabs(eval(f)) >= erro:\n",
        "    x = (a+b)/2\n",
        "    fa.append(eval(f))\n",
        "    if fa[0]*fa[1] < 0:\n",
        "      b = x\n",
        "    else:\n",
        "      a = x\n",
        "    fa = []\n",
        "    x = a\n",
        "    fa.append(eval(f))\n",
        "    iteracao += 1\n",
        "  print(\"A raiz encontrada foi x = %f\" % x)\n",
        "  print(\"f(x) = %f\" % eval(f))\n",
        "  print(\"Foram realizadas %d iterações.\" % iteracao)"
      ],
      "execution_count": null,
      "outputs": []
    },
    {
      "cell_type": "markdown",
      "metadata": {
        "id": "TOYGZSQq8xMa"
      },
      "source": [
        "# Método do Ponto Fixo"
      ]
    },
    {
      "cell_type": "code",
      "metadata": {
        "id": "z0iTcdYe8v-3"
      },
      "source": [
        "def PontoFixo():\n",
        "  f = input(\"f(x) = \")\n",
        "  print(\"Insira a função iteração.\")\n",
        "  g = input(\"g(x) = \")\n",
        "  x0 = float(input(\"Insira um valor inicial 'x0': \"))\n",
        "  erro = float(input(\"Insira o erro máximo desejado: \"))\n",
        "  print()\n",
        "  iteracao = 0\n",
        "  x = x0\n",
        "  while fabs(eval(f)) >= erro:\n",
        "    x1 = eval(g)\n",
        "    x = x1\n",
        "    iteracao += 1\n",
        "  print(\"A raiz encontrada foi x = %f\" % x)\n",
        "  print(\"f(x) = %f\" % eval(f))\n",
        "  print(\"Foram realizadas %d iterações.\" % iteracao)"
      ],
      "execution_count": null,
      "outputs": []
    },
    {
      "cell_type": "markdown",
      "metadata": {
        "id": "Rk593CVX9Kdh"
      },
      "source": [
        "# Método de Newton-Raphson"
      ]
    },
    {
      "cell_type": "code",
      "metadata": {
        "id": "6Stxv9SI9No-"
      },
      "source": [
        "def NewtonRaphson():\n",
        "  f = input(\"f(x) = \")\n",
        "  flinha = input(\"f'(x) = \")\n",
        "  x = float(input(\"x0 = \"))\n",
        "  erro = float(input(\"Erro máximo desejado: \"))\n",
        "  iteracao = 0\n",
        "  print()\n",
        "  while fabs(eval(f)) >= erro:\n",
        "    x1 = x - eval(f)/eval(flinha)\n",
        "    x = x1\n",
        "    iteracao += 1\n",
        "  print(\"A raiz encontrada foi x = %f\" % x)\n",
        "  print(\"f(x) = %f\" % eval(f))\n",
        "  print(\"Foram realizadas %d iterações.\" % iteracao)"
      ],
      "execution_count": null,
      "outputs": []
    },
    {
      "cell_type": "markdown",
      "metadata": {
        "id": "qIT3IlX_9V_Z"
      },
      "source": [
        "# Método da Secante"
      ]
    },
    {
      "cell_type": "code",
      "metadata": {
        "id": "oKqDPC5w9YYc"
      },
      "source": [
        "def Secante():\n",
        "  f = input(\"f(x) = \")\n",
        "  F = []\n",
        "  x0 = float(input(\"x0 = \"))\n",
        "  x = x0\n",
        "  F.append(eval(f))\n",
        "  x1 = float(input(\"x1 = \"))\n",
        "  x = x1\n",
        "  F.append(eval(f))\n",
        "  erro = float(input(\"Erro máximo desejado: \"))\n",
        "  iteracao = 0\n",
        "  print()\n",
        "  while fabs(eval(f)) >= erro:\n",
        "    x2 = (x0*F[1] - x1*F[0])/(F[1] - F[0])\n",
        "    x = x2\n",
        "    x0 = x1\n",
        "    x1 = x2\n",
        "    F[0] = F[1]\n",
        "    F[1] = eval(f)\n",
        "    iteracao += 1\n",
        "  print(\"A raiz encontrada foi x = %f\" % x)\n",
        "  print(\"f(x) = %f\" % eval(f))\n",
        "  print(\"Foram realizadas %d iterações.\" % iteracao)"
      ],
      "execution_count": null,
      "outputs": []
    },
    {
      "cell_type": "markdown",
      "metadata": {
        "id": "AYuyLlX69gpU"
      },
      "source": [
        "# Funcionamento da calculadora"
      ]
    },
    {
      "cell_type": "code",
      "metadata": {
        "id": "2P7GLQ7_9jDd",
        "outputId": "e57041a2-42af-4d93-fbea-572c823823ee",
        "colab": {
          "base_uri": "https://localhost:8080/"
        }
      },
      "source": [
        "print(\"Calculadora de Zero de Funções reais\")\n",
        "print(\"1 - Método da Bissecção\\n2 - Método do Ponto Fixo\\n3 - Método de Newton-Raphson\\n4 - Método da Secante\\n\")\n",
        "opcao = int(input(\"Digite o método desejado: \"))\n",
        "if opcao == 1:\n",
        "  Bisseccao()\n",
        "elif opcao == 2:\n",
        "  PontoFixo()\n",
        "elif opcao == 3:\n",
        "  NewtonRaphson()\n",
        "else:\n",
        "  Secante()"
      ],
      "execution_count": null,
      "outputs": [
        {
          "output_type": "stream",
          "text": [
            "Calculadora de Zero de Funções reais\n",
            "1 - Método da Bissecção\n",
            "2 - Método do Ponto Fixo\n",
            "3 - Método de Newton-Raphson\n",
            "4 - Método da Secante\n",
            "\n",
            "Digite o método desejado: 1\n",
            "f(x) = x**2 - 2*x + 1\n",
            "Insira os limites do intervalo [a,b]\n",
            "Limite inferior do intervalo 'a': 0\n",
            "Limite superior do intervalo 'b': 1\n",
            "Insira o erro máximo desejado: 0.001\n",
            "\n",
            "A raiz encontrada foi x = 0.968750\n",
            "f(x) = 0.000977\n",
            "Foram realizadas 5 iterações.\n"
          ],
          "name": "stdout"
        }
      ]
    }
  ]
}